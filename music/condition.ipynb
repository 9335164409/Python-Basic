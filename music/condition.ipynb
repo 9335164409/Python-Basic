{
 "cells": [
  {
   "cell_type": "code",
   "execution_count": 4,
   "metadata": {},
   "outputs": [
    {
     "name": "stdout",
     "output_type": "stream",
     "text": [
      "a=9774576a is greater\n"
     ]
    }
   ],
   "source": [
    "a = 9774576\n",
    "b = 26596\n",
    "c = 600006\n",
    "if a>b and a>c:\n",
    "    print(f'{a=}a is greater')\n",
    "if b>c and b>a:\n",
    "    print(f'{b=}b is greater')\n",
    "if c>a and c>b:\n",
    "    print(f'{c=}c is greater')        \n"
   ]
  },
  {
   "cell_type": "code",
   "execution_count": 7,
   "metadata": {},
   "outputs": [
    {
     "name": "stdout",
     "output_type": "stream",
     "text": [
      "you are fool\n"
     ]
    }
   ],
   "source": [
    "a=int(input('enter the first number'))\n",
    "b=int(input('enter the second number'))\n",
    "if a>b:\n",
    "    print('you are genious')\n",
    "else:\n",
    "    print('you are fool')    "
   ]
  },
  {
   "cell_type": "code",
   "execution_count": 8,
   "metadata": {},
   "outputs": [
    {
     "data": {
      "text/plain": [
       "8"
      ]
     },
     "execution_count": 8,
     "metadata": {},
     "output_type": "execute_result"
    }
   ],
   "source": [
    "list=['snapchat','facebool','instagram','chrome','google','zoom','testbook','classroom']\n",
    "len(list)"
   ]
  },
  {
   "cell_type": "code",
   "execution_count": 10,
   "metadata": {},
   "outputs": [
    {
     "data": {
      "text/plain": [
       "1"
      ]
     },
     "execution_count": 10,
     "metadata": {},
     "output_type": "execute_result"
    }
   ],
   "source": [
    "list=['SNEHAVERMA']\n",
    "len(list)"
   ]
  },
  {
   "cell_type": "code",
   "execution_count": 15,
   "metadata": {},
   "outputs": [
    {
     "name": "stdout",
     "output_type": "stream",
     "text": [
      "username is invalid🤷‍♂️\n"
     ]
    }
   ],
   "source": [
    "username=input('Enter your name:')\n",
    "email=input('Enter your email:')\n",
    "pwd=input('Enter your password:')\n",
    "pwd2=input('Confirm your password:')\n",
    "if len(username)>=4 and len(username)<=15:\n",
    "    if'@' in email and email.islower() and len(email)>10:\n",
    "        if len(pwd)>=6 and pwd!=username:\n",
    "            if pwd==pwd2:\n",
    "             print(\"Hurray😁\")\n",
    "        else:\n",
    "            print(\"password donot match😒\")\n",
    "    else:\n",
    "                print(\"password is invalid\")\n",
    "else:\n",
    "                    print(\"username is invalid🤷‍♂️\")\n",
    "\n"
   ]
  },
  {
   "cell_type": "code",
   "execution_count": 20,
   "metadata": {},
   "outputs": [
    {
     "name": "stdout",
     "output_type": "stream",
     "text": [
      "Poor\n"
     ]
    }
   ],
   "source": [
    "username=input(f'{username=}Enter your name')\n",
    "max_marks=int(input('Enter your marks'))\n",
    "if max_marks>90:\n",
    "    print(\"You are outstanding\")\n",
    "elif max_marks>75:\n",
    "    print(\"You are intelligent\") \n",
    "elif max_marks>60:\n",
    "    print('You are performer')\n",
    "else:\n",
    "    print(\"Poor\")\n",
    "              "
   ]
  },
  {
   "cell_type": "code",
   "execution_count": 22,
   "metadata": {},
   "outputs": [
    {
     "name": "stdout",
     "output_type": "stream",
     "text": [
      "number is odd\n"
     ]
    }
   ],
   "source": [
    "x=int(input('Enter your number'))\n",
    "if x%2==0:\n",
    "    print(\"number is even\")\n",
    "else:\n",
    "    print(\"number is odd\")    \n"
   ]
  },
  {
   "cell_type": "code",
   "execution_count": 24,
   "metadata": {},
   "outputs": [
    {
     "name": "stdout",
     "output_type": "stream",
     "text": [
      "you are are going to run this part\n",
      "you are going to see this part also\n"
     ]
    }
   ],
   "source": [
    "count = int(input('enter the value'))\n",
    "if count> 5:\n",
    "    print(\"you are are going to run this part\")\n",
    "if count> 15:\n",
    "    print(\"you are going to see this part also\")\n",
    "if count %2==0:\n",
    "    print(\"number s even\")        "
   ]
  }
 ],
 "metadata": {
  "kernelspec": {
   "display_name": "base",
   "language": "python",
   "name": "python3"
  },
  "language_info": {
   "codemirror_mode": {
    "name": "ipython",
    "version": 3
   },
   "file_extension": ".py",
   "mimetype": "text/x-python",
   "name": "python",
   "nbconvert_exporter": "python",
   "pygments_lexer": "ipython3",
   "version": "3.10.8"
  },
  "orig_nbformat": 4,
  "vscode": {
   "interpreter": {
    "hash": "966450a6fc5872085a69748d0ac74143c4b152c70eb4c7d1385e91c083075025"
   }
  }
 },
 "nbformat": 4,
 "nbformat_minor": 2
}
