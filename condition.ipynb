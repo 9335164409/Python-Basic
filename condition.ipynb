{
 "cells": [
  {
   "cell_type": "code",
   "execution_count": 1,
   "metadata": {},
   "outputs": [
    {
     "name": "stdout",
     "output_type": "stream",
     "text": [
      "y is greater\n"
     ]
    }
   ],
   "source": [
    "x = 20\n",
    "y = 30\n",
    "if(x>y):\n",
    "    print(\"x is greater\")\n",
    "else:\n",
    "        print(\"y is greater\")"
   ]
  },
  {
   "cell_type": "code",
   "execution_count": 3,
   "metadata": {},
   "outputs": [
    {
     "name": "stdout",
     "output_type": "stream",
     "text": [
      "b is greater\n"
     ]
    }
   ],
   "source": [
    "a=345544\n",
    "b=3452446\n",
    "c=2456\n",
    "if a>b and a>c:\n",
    "    print('a is greater')\n",
    "if b>c and b>a:\n",
    "    print('b is greater')\n",
    "if c>a and c>b:\n",
    "    print('c is greater')        \n"
   ]
  },
  {
   "cell_type": "code",
   "execution_count": 4,
   "metadata": {},
   "outputs": [
    {
     "name": "stdout",
     "output_type": "stream",
     "text": [
      "you are cool\n"
     ]
    }
   ],
   "source": [
    "a=int(input('enter the first number'))\n",
    "b=int(input('enter the second number'))\n",
    "if a>=b:\n",
    "    print('I am a genious')\n",
    "else:\n",
    "    print('you are cool')    "
   ]
  },
  {
   "cell_type": "code",
   "execution_count": 10,
   "metadata": {},
   "outputs": [
    {
     "name": "stdout",
     "output_type": "stream",
     "text": [
      "Hurray😁\n"
     ]
    }
   ],
   "source": [
    "username=input('Enter yur name')\n",
    "email=input('Enter your email')\n",
    "pwd=input('enter your password')\n",
    "pwd1=input('confirm your password')\n",
    "if len(username)>=4 and len(username)<=15:\n",
    "    if'@' in email and email.islower() and len(email)>10:\n",
    "        if len(pwd)>=5 and pwd!=username:\n",
    "            pwd=pwd1\n",
    "            print('Hurray😁')\n",
    "        else:\n",
    "                print('pwd do not match')\n",
    "    else:\n",
    "                    print('email is invalid')\n",
    "else:\n",
    "                        print('user name is invalid')\n"
   ]
  },
  {
   "cell_type": "code",
   "execution_count": 11,
   "metadata": {},
   "outputs": [
    {
     "name": "stdout",
     "output_type": "stream",
     "text": [
      "you are intelligent\n"
     ]
    }
   ],
   "source": [
    "username=input('enter your name')\n",
    "max_marks=int(input('enter your marks'))\n",
    "if max_marks>90:\n",
    "    print('you are outstanding')\n",
    "elif max_marks>75:\n",
    "    print('you are intelligent')\n",
    "elif max_marks>60:\n",
    "    print('you are performer')\n",
    "else:\n",
    "        print('Poor')        "
   ]
  },
  {
   "cell_type": "code",
   "execution_count": 14,
   "metadata": {},
   "outputs": [
    {
     "name": "stdout",
     "output_type": "stream",
     "text": [
      "num is odd\n"
     ]
    }
   ],
   "source": [
    "x=int(input('enter the number'))\n",
    "if x%2==0:\n",
    "    print('num is even')\n",
    "else:\n",
    "    print('num is odd')    "
   ]
  },
  {
   "cell_type": "code",
   "execution_count": 20,
   "metadata": {},
   "outputs": [
    {
     "name": "stdout",
     "output_type": "stream",
     "text": [
      "you are going to run this part\n",
      "you are going to see this size\n",
      "even\n"
     ]
    }
   ],
   "source": [
    "count = int(input('enter a vaue'))\n",
    "if count>5:\n",
    "    print('you are going to run this part')\n",
    "if count>15:\n",
    "    print('you are going to see this size')\n",
    "if count%2==0:\n",
    "    print('even')        "
   ]
  },
  {
   "cell_type": "code",
   "execution_count": null,
   "metadata": {},
   "outputs": [],
   "source": []
  }
 ],
 "metadata": {
  "kernelspec": {
   "display_name": "base",
   "language": "python",
   "name": "python3"
  },
  "language_info": {
   "codemirror_mode": {
    "name": "ipython",
    "version": 3
   },
   "file_extension": ".py",
   "mimetype": "text/x-python",
   "name": "python",
   "nbconvert_exporter": "python",
   "pygments_lexer": "ipython3",
   "version": "3.10.8"
  },
  "orig_nbformat": 4,
  "vscode": {
   "interpreter": {
    "hash": "966450a6fc5872085a69748d0ac74143c4b152c70eb4c7d1385e91c083075025"
   }
  }
 },
 "nbformat": 4,
 "nbformat_minor": 2
}
