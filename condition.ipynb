{
 "cells": [
  {
   "cell_type": "code",
   "execution_count": 1,
   "metadata": {},
   "outputs": [
    {
     "name": "stdout",
     "output_type": "stream",
     "text": [
      "You are going to run this part\n",
      "You are going to see this part also\n",
      "count is even\n"
     ]
    }
   ],
   "source": [
    "count=int(input(\"enter a value\"))\n",
    "if count>5:\n",
    "    print(\"You are going to run this part\")\n",
    "if count>15:\n",
    "    print(\"You are going to see this part also\")\n",
    "    if count%2==0:\n",
    "        print(\"count is even\")"
   ]
  },
  {
   "cell_type": "code",
   "execution_count": 2,
   "metadata": {},
   "outputs": [
    {
     "name": "stdout",
     "output_type": "stream",
     "text": [
      "y is greater\n"
     ]
    }
   ],
   "source": [
    "x= 20\n",
    "y = 30\n",
    "if(x>y):\n",
    "    print(\"x is greater\")\n",
    "else:\n",
    "        print(\"y is greater\")"
   ]
  },
  {
   "cell_type": "code",
   "execution_count": 5,
   "metadata": {},
   "outputs": [
    {
     "name": "stdout",
     "output_type": "stream",
     "text": [
      "c=76 is greater\n"
     ]
    }
   ],
   "source": [
    "a=9\n",
    "b=5\n",
    "c=76\n",
    "if a>b and a>c:\n",
    "    print(f'{a=} is greater')\n",
    "if b>c and b>a:\n",
    "    print(f'{b=} is greater')\n",
    "if c>a and c>b:\n",
    "    print(f'{c=} is greater')"
   ]
  },
  {
   "cell_type": "code",
   "execution_count": 6,
   "metadata": {},
   "outputs": [
    {
     "name": "stdout",
     "output_type": "stream",
     "text": [
      "you are a fool\n"
     ]
    }
   ],
   "source": [
    "a=int(input('enter first number:'))\n",
    "b=int(input('enter the second nuber:'))\n",
    "if a>=b:\n",
    "    print('I am a genius')\n",
    "else:\n",
    "         print('you are a fool')"
   ]
  },
  {
   "cell_type": "code",
   "execution_count": 7,
   "metadata": {},
   "outputs": [
    {
     "name": "stdout",
     "output_type": "stream",
     "text": [
      "6\n"
     ]
    }
   ],
   "source": [
    "list=['chrome','gallery','uber','zomato','messages','fb']\n",
    "print (len(list))"
   ]
  },
  {
   "cell_type": "code",
   "execution_count": 8,
   "metadata": {},
   "outputs": [
    {
     "name": "stdout",
     "output_type": "stream",
     "text": [
      "Hurray 😁\n"
     ]
    }
   ],
   "source": [
    "username=input('Enter your name:')\n",
    "email=input('Enter ypur email:')\n",
    "pwd=input('enter ypur password:')\n",
    "pwd2=input('Confirm your password:')\n",
    "if len(username)>=4 and len(username)<=15:\n",
    "    if'@' in email and email.islower() and len(email)>10:\n",
    "        if len(pwd)>=6 and pwd!=username:\n",
    "            if pwd==pwd2:\n",
    "             print('Hurray 😁')\n",
    "        else:\n",
    "                print('passwords do not match😒')\n",
    "    else:\n",
    "                    print('password do not match 🤦‍♀️')\n",
    "else:\n",
    "                        print('pass is invalid 🤷‍♂️')"
   ]
  },
  {
   "attachments": {},
   "cell_type": "markdown",
   "metadata": {},
   "source": [
    "if-elif"
   ]
  },
  {
   "cell_type": "code",
   "execution_count": 10,
   "metadata": {},
   "outputs": [
    {
     "name": "stdout",
     "output_type": "stream",
     "text": [
      "Your are intelligent\n"
     ]
    }
   ],
   "source": [
    "name=input('Enter your name')\n",
    "max_marks=int(input('Enter the marks:'))\n",
    "if max_marks>90:\n",
    "    print('You are outstanding')\n",
    "elif max_marks>75:\n",
    "    print('Your are intelligent')\n",
    "elif max_marks>60:\n",
    "    print('You are a good performer')\n",
    "else:\n",
    "    print('Poor')"
   ]
  }
 ],
 "metadata": {
  "kernelspec": {
   "display_name": "base",
   "language": "python",
   "name": "python3"
  },
  "language_info": {
   "codemirror_mode": {
    "name": "ipython",
    "version": 3
   },
   "file_extension": ".py",
   "mimetype": "text/x-python",
   "name": "python",
   "nbconvert_exporter": "python",
   "pygments_lexer": "ipython3",
   "version": "3.10.8"
  },
  "orig_nbformat": 4,
  "vscode": {
   "interpreter": {
    "hash": "966450a6fc5872085a69748d0ac74143c4b152c70eb4c7d1385e91c083075025"
   }
  }
 },
 "nbformat": 4,
 "nbformat_minor": 2
}
